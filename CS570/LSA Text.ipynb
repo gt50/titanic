{
 "metadata": {
  "name": "",
  "signature": "sha256:526d96599f456b3c43881b0f8846e79ac62af02c4e190c1b123aeb9841f01744"
 },
 "nbformat": 3,
 "nbformat_minor": 0,
 "worksheets": [
  {
   "cells": [
    {
     "cell_type": "markdown",
     "metadata": {},
     "source": [
      "## Latent Semantic Analysis\n",
      "\n",
      "In this notebook we're going to look at how we can 'mine' concepts from a corpus (collection) of text documents.\n",
      "\n",
      "In the first week of class everyone wrote their own definition of data science.   This week I'm going to show you how to extract 'concepts' from that corpus mathematically.  The techinque we're going to use is called latent semantic analysis.  "
     ]
    },
    {
     "cell_type": "code",
     "collapsed": false,
     "input": [
      "from bs4 import BeautifulSoup\n",
      "import nltk\n",
      "from nltk.corpus import stopwords\n",
      "from sklearn.feature_extraction.text import TfidfVectorizer\n",
      "from sklearn.decomposition import TruncatedSVD"
     ],
     "language": "python",
     "metadata": {},
     "outputs": [],
     "prompt_number": 1
    },
    {
     "cell_type": "code",
     "collapsed": false,
     "input": [
      "#run this only once\n",
      "nltk.download('stopwords')"
     ],
     "language": "python",
     "metadata": {},
     "outputs": [
      {
       "output_type": "stream",
       "stream": "stdout",
       "text": [
        "[nltk_data] Downloading package stopwords to /home/mike/nltk_data...\n",
        "[nltk_data]   Package stopwords is already up-to-date!\n"
       ]
      },
      {
       "metadata": {},
       "output_type": "pyout",
       "prompt_number": 2,
       "text": [
        "True"
       ]
      }
     ],
     "prompt_number": 2
    },
    {
     "cell_type": "markdown",
     "metadata": {},
     "source": [
      "I exported the forum posts for module 0 into an XML file.  Each post is wrapped in <text></text> tags.   I'll use BeautifulSoup to process the XML"
     ]
    },
    {
     "cell_type": "code",
     "collapsed": false,
     "input": [
      "posts = open('raw_forum_posts.dat', 'r').read()"
     ],
     "language": "python",
     "metadata": {},
     "outputs": [],
     "prompt_number": 3
    },
    {
     "cell_type": "code",
     "collapsed": false,
     "input": [
      "soup = BeautifulSoup(posts)\n",
      "postTxt = soup.findAll('text')  #all posts <text> \n",
      "postDocs = [x.text for x in postTxt]\n",
      "postDocs.pop(0)\n",
      "postDocs = [x.lower() for x in postDocs]"
     ],
     "language": "python",
     "metadata": {},
     "outputs": [],
     "prompt_number": 4
    },
    {
     "cell_type": "markdown",
     "metadata": {},
     "source": [
      "Stopwords are words that I don't want to convert to featurs,becuase they aren't especially useful.  Words like 'a', 'and', and 'the' are good stopwords in english.   I can use a built in list of stopwords from nltk to get me started.  Then, I'll add some custom stopwords that are 'html junk' that I need to clean out of my data."
     ]
    },
    {
     "cell_type": "code",
     "collapsed": false,
     "input": [
      "stopset = set(stopwords.words('english'))\n",
      "stopset.update(['lt','p','/p','br','amp','quot','field','font','normal','span','0px','rgb','style','51', \n",
      "                'spacing','text','helvetica','size','family', 'space', 'arial', 'height', 'indent', 'letter'\n",
      "                'line','none','sans','serif','transform','line','variant','weight','times', 'new','strong', 'video', 'title'\n",
      "                'white','word','letter', 'roman','0pt','16','color','12','14','21', 'neue', 'apple', 'class',  ])\n"
     ],
     "language": "python",
     "metadata": {},
     "outputs": [],
     "prompt_number": 5
    },
    {
     "cell_type": "markdown",
     "metadata": {},
     "source": [
      "### TF-IDF Vectorizing\n",
      "\n",
      "I'm going to use scikit-learn's TF-IDF vectorizer to take my corpus and convert each document into a sparse matrix of TFIDF Features..."
     ]
    },
    {
     "cell_type": "code",
     "collapsed": false,
     "input": [
      "#Before!\n",
      "postDocs[0]"
     ],
     "language": "python",
     "metadata": {},
     "outputs": [
      {
       "metadata": {},
       "output_type": "pyout",
       "prompt_number": 6,
       "text": [
        "u'<p>data science is about analyzing relevant data to obtain patterns of information in order to help achieve a goal. the main focus of the data analysis is the goal rather then the methodology on how it will achieved. this allows for creative thinking and allowing for the optimal solution or model to be found wihtout the constraint of a specific methodology.</p>'"
       ]
      }
     ],
     "prompt_number": 6
    },
    {
     "cell_type": "code",
     "collapsed": false,
     "input": [
      "vectorizer = TfidfVectorizer(stop_words=stopset,\n",
      "                                 use_idf=True, ngram_range=(1, 3))\n",
      "X = vectorizer.fit_transform(postDocs)"
     ],
     "language": "python",
     "metadata": {},
     "outputs": [],
     "prompt_number": 7
    },
    {
     "cell_type": "code",
     "collapsed": false,
     "input": [
      "X[0]"
     ],
     "language": "python",
     "metadata": {},
     "outputs": [
      {
       "metadata": {},
       "output_type": "pyout",
       "prompt_number": 8,
       "text": [
        "<1x3390 sparse matrix of type '<type 'numpy.float64'>'\n",
        "\twith 89 stored elements in Compressed Sparse Row format>"
       ]
      }
     ],
     "prompt_number": 8
    },
    {
     "cell_type": "code",
     "collapsed": false,
     "input": [
      "#After\n",
      "print X[0]"
     ],
     "language": "python",
     "metadata": {},
     "outputs": [
      {
       "output_type": "stream",
       "stream": "stdout",
       "text": [
        "  (0, 558)\t0.10905143902\n",
        "  (0, 3324)\t0.10905143902\n",
        "  (0, 1301)\t0.10905143902\n",
        "  (0, 1951)\t0.10905143902\n",
        "  (0, 2758)\t0.10905143902\n",
        "  (0, 2080)\t0.10905143902\n",
        "  (0, 107)\t0.10905143902\n",
        "  (0, 2980)\t0.10905143902\n",
        "  (0, 625)\t0.10905143902\n",
        "  (0, 110)\t0.10905143902\n",
        "  (0, 54)\t0.10905143902\n",
        "  (0, 1917)\t0.10905143902\n",
        "  (0, 2380)\t0.10905143902\n",
        "  (0, 1395)\t0.10905143902\n",
        "  (0, 147)\t0.10905143902\n",
        "  (0, 655)\t0.10905143902\n",
        "  (0, 1265)\t0.10905143902\n",
        "  (0, 1816)\t0.10905143902\n",
        "  (0, 1391)\t0.10905143902\n",
        "  (0, 49)\t0.10905143902\n",
        "  (0, 1474)\t0.10905143902\n",
        "  (0, 2090)\t0.10905143902\n",
        "  (0, 1600)\t0.10905143902\n",
        "  (0, 2157)\t0.10905143902\n",
        "  (0, 2041)\t0.10905143902\n",
        "  :\t:\n",
        "  (0, 1295)\t0.0882799340268\n",
        "  (0, 1943)\t0.0761293825223\n",
        "  (0, 2754)\t0.0969008875155\n",
        "  (0, 2078)\t0.10905143902\n",
        "  (0, 105)\t0.10905143902\n",
        "  (0, 2978)\t0.0969008875155\n",
        "  (0, 623)\t0.0969008875155\n",
        "  (0, 108)\t0.10905143902\n",
        "  (0, 52)\t0.10905143902\n",
        "  (0, 1915)\t0.21810287804\n",
        "  (0, 2378)\t0.10905143902\n",
        "  (0, 143)\t0.071509957232\n",
        "  (0, 1261)\t0.0882799340268\n",
        "  (0, 1814)\t0.10905143902\n",
        "  (0, 1389)\t0.176559868054\n",
        "  (0, 47)\t0.0969008875155\n",
        "  (0, 1472)\t0.0761293825223\n",
        "  (0, 2084)\t0.0761293825223\n",
        "  (0, 1588)\t0.0529592419308\n",
        "  (0, 2153)\t0.0969008875155\n",
        "  (0, 2039)\t0.10905143902\n",
        "  (0, 2413)\t0.0882799340268\n",
        "  (0, 160)\t0.0675084290336\n",
        "  (0, 2484)\t0.0310567745199\n",
        "  (0, 647)\t0.0899008417366\n"
       ]
      }
     ],
     "prompt_number": 9
    },
    {
     "cell_type": "markdown",
     "metadata": {},
     "source": [
      "###LSA\n",
      "\n",
      "Input:  X, a matrix where m is the number of documents I have, and n is the number of terms.\n",
      "\n",
      "Process:   I'm going to decompose X into three matricies called U, S, and T.  When we do the decomposition, we have to pick a value k, that's how many concepts we are going to keep.  \n",
      "\n",
      "$$X \\approx USV^{T}$$\n",
      "\n",
      "U will be a m x k matrix.  The rows will be documents and the columns will be 'concepts'\n",
      "\n",
      "S will be a k x k diagnal matrix.   The elements will be the amount of variation captured from each concept.\n",
      "\n",
      "V will be a m x k (mind the transpose) matrix.   The rows will be terms and the columns will be conepts.  "
     ]
    },
    {
     "cell_type": "code",
     "collapsed": false,
     "input": [
      "X.shape"
     ],
     "language": "python",
     "metadata": {},
     "outputs": [
      {
       "metadata": {},
       "output_type": "pyout",
       "prompt_number": 10,
       "text": [
        "(27, 3390)"
       ]
      }
     ],
     "prompt_number": 10
    },
    {
     "cell_type": "code",
     "collapsed": false,
     "input": [
      "lsa = TruncatedSVD(n_components=27, n_iter=100)\n",
      "lsa.fit(X)\n",
      "\n"
     ],
     "language": "python",
     "metadata": {},
     "outputs": [
      {
       "metadata": {},
       "output_type": "pyout",
       "prompt_number": 11,
       "text": [
        "TruncatedSVD(algorithm='randomized', n_components=27, n_iter=100,\n",
        "       random_state=None, tol=0.0)"
       ]
      }
     ],
     "prompt_number": 11
    },
    {
     "cell_type": "code",
     "collapsed": false,
     "input": [
      "#This is the first row for V\n",
      "lsa.components_[0]"
     ],
     "language": "python",
     "metadata": {},
     "outputs": [
      {
       "metadata": {},
       "output_type": "pyout",
       "prompt_number": 12,
       "text": [
        "array([ 0.00523425,  0.00523425,  0.00523425, ...,  0.00431874,\n",
        "        0.00431874,  0.00431874])"
       ]
      }
     ],
     "prompt_number": 12
    },
    {
     "cell_type": "code",
     "collapsed": false,
     "input": [
      "terms = vectorizer.get_feature_names()\n",
      "for i, comp in enumerate(lsa.components_): \n",
      "    termsInComp = zip (terms,comp)\n",
      "    sortedTerms =  sorted(termsInComp, key=lambda x: x[1], reverse=True) [:10]\n",
      "    print \"Concept %d:\" % i\n",
      "    for term in sortedTerms:\n",
      "        print term[0]\n",
      "    print \" \""
     ],
     "language": "python",
     "metadata": {},
     "outputs": [
      {
       "output_type": "stream",
       "stream": "stdout",
       "text": [
        "Concept 0:\n",
        "data\n",
        "procedures\n",
        "large amounts\n",
        "large amounts data\n",
        "science\n",
        "amounts\n",
        "amounts data\n",
        "different\n",
        "could\n",
        "large\n",
        " \n",
        "Concept 1:\n",
        "data\n",
        "science\n",
        "data science\n",
        "make\n",
        "white\n",
        "answer\n",
        "decisions\n",
        "using\n",
        "questions\n",
        "finding\n",
        " \n",
        "Concept 2:\n",
        "white\n",
        "converted\n",
        "make\n",
        "white converted\n",
        "white white\n",
        "hello\n",
        "make better\n",
        "companies\n",
        "technologies\n",
        "analyzing\n",
        " \n",
        "Concept 3:\n",
        "white\n",
        "questions\n",
        "answer\n",
        "relevant\n",
        "relevant data\n",
        "converted\n",
        "using relevant\n",
        "using relevant data\n",
        "part\n",
        "art\n",
        " \n",
        "Concept 4:\n",
        "business\n",
        "white\n",
        "large\n",
        "competitive edge\n",
        "edge\n",
        "especially\n",
        "data scientist\n",
        "competitive\n",
        "scientist\n",
        "methods\n",
        " \n",
        "Concept 5:\n",
        "answer\n",
        "part\n",
        "problem\n",
        "science\n",
        "finding\n",
        "methods\n",
        "art\n",
        "decisions\n",
        "figure\n",
        "finding data\n",
        " \n",
        "Concept 6:\n",
        "answer\n",
        "questions\n",
        "using\n",
        "canada\n",
        "contacts\n",
        "part\n",
        "may\n",
        "white\n",
        "allow\n",
        "increase\n",
        " \n",
        "Concept 7:\n",
        "order\n",
        "users\n",
        "questions\n",
        "technologies\n",
        "use\n",
        "white\n",
        "answers\n",
        "statistics\n",
        "like\n",
        "around\n",
        " \n",
        "Concept 8:\n",
        "ultimately\n",
        "get\n",
        "greater\n",
        "humanity\n",
        "users\n",
        "actionable\n",
        "actions\n",
        "data doesn\n",
        "farming\n",
        "get lost\n",
        " \n",
        "Concept 9:\n",
        "make\n",
        "trying\n",
        "business\n",
        "dig\n",
        "answer\n",
        "part\n",
        "competitive\n",
        "problem\n",
        "amounts\n",
        "amounts data\n",
        " \n",
        "Concept 10:\n",
        "predict\n",
        "competitive\n",
        "way\n",
        "ability\n",
        "people\n",
        "problems\n",
        "business\n",
        "perspective\n",
        "videos\n",
        "large\n",
        " \n",
        "Concept 11:\n",
        "business\n",
        "people\n",
        "find\n",
        "dig\n",
        "white\n",
        "help\n",
        "gained\n",
        "complex\n",
        "greater\n",
        "humanity\n",
        " \n",
        "Concept 12:\n",
        "ultimately\n",
        "greater\n",
        "humanity\n",
        "practices\n",
        "faster\n",
        "increase data\n",
        "forward\n",
        "problems\n",
        "use\n",
        "process\n",
        " \n",
        "Concept 13:\n",
        "answer\n",
        "part\n",
        "ability\n",
        "significant\n",
        "understanding\n",
        "accessing\n",
        "ability explain\n",
        "explain\n",
        "explain understand\n",
        "explain understand predict\n",
        " \n",
        "Concept 14:\n",
        "answer\n",
        "part\n",
        "fields\n",
        "statistics data\n",
        "studies\n",
        "use statistics\n",
        "use statistics data\n",
        "analyzing data\n",
        "significant\n",
        "opinion data\n",
        " \n",
        "Concept 15:"
       ]
      },
      {
       "output_type": "stream",
       "stream": "stdout",
       "text": [
        "\n",
        "information\n",
        "digital\n",
        "trends\n",
        "around us\n",
        "process\n",
        "us\n",
        "business\n",
        "useful\n",
        "amounts data help\n",
        "analyzing data especially\n",
        " \n",
        "Concept 16:\n",
        "part\n",
        "business\n",
        "involves\n",
        "part involves\n",
        "science part\n",
        "statistically\n",
        "relevant\n",
        "relevant data\n",
        "huge\n",
        "art\n",
        " \n",
        "Concept 17:\n",
        "use\n",
        "analysis\n",
        "according\n",
        "methodology\n",
        "used\n",
        "get\n",
        "perspective\n",
        "videos\n",
        "art\n",
        "tools\n",
        " \n",
        "Concept 18:\n",
        "different\n",
        "science\n",
        "decisions\n",
        "figure\n",
        "valuable\n",
        "used\n",
        "hi\n",
        "make\n",
        "finding data\n",
        "come\n",
        " \n",
        "Concept 19:\n",
        "problem\n",
        "hello\n",
        "order\n",
        "make\n",
        "analyzing\n",
        "decisions\n",
        "better decisions\n",
        "make better decisions\n",
        "use data\n",
        "technologies\n",
        " \n",
        "Concept 20:\n",
        "store\n",
        "large\n",
        "come\n",
        "different\n",
        "white\n",
        "according\n",
        "finding\n",
        "methods\n",
        "find\n",
        "involves\n",
        " \n",
        "Concept 21:\n",
        "thank\n",
        "large amounts\n",
        "large amounts data\n",
        "science\n",
        "problem\n",
        "efficient\n",
        "practices\n",
        "analyzing\n",
        "achieve ultimate\n",
        "achieve ultimate goal\n",
        " \n",
        "Concept 22:\n",
        "figure\n",
        "days\n",
        "answers\n",
        "information\n",
        "able learn data\n",
        "appropriate\n",
        "appropriate scientific\n",
        "appropriate scientific technique\n",
        "art finding\n",
        "art finding good\n",
        " \n",
        "Concept 23:\n",
        "large amounts\n",
        "large amounts data\n",
        "find\n",
        "large\n",
        "valuable\n",
        "would\n",
        "practices\n",
        "science\n",
        "solve\n",
        "hello\n",
        " \n",
        "Concept 24:\n",
        "tools\n",
        "come\n",
        "could\n",
        "days\n",
        "data science\n",
        "useful\n",
        "white\n",
        "order\n",
        "data scientist\n",
        "science\n",
        " \n",
        "Concept 25:\n",
        "could\n",
        "science\n",
        "data science\n",
        "since\n",
        "everyone\n",
        "hello everyone\n",
        "large\n",
        "procedures\n",
        "according\n",
        "goal\n",
        " \n",
        "Concept 26:\n",
        "amounts\n",
        "amounts data\n",
        "hello\n",
        "information\n",
        "make\n",
        "science\n",
        "may\n",
        "data science\n",
        "large\n",
        "problems\n",
        " \n"
       ]
      }
     ],
     "prompt_number": 13
    }
   ],
   "metadata": {}
  }
 ]
}