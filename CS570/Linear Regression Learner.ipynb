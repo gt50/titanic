{
 "metadata": {
  "name": "",
  "signature": "sha256:204df545510356637662e66632eaee7f47b4e218d83686082422bce8cbd40816"
 },
 "nbformat": 3,
 "nbformat_minor": 0,
 "worksheets": [
  {
   "cells": [
    {
     "cell_type": "markdown",
     "metadata": {},
     "source": [
      "#Learning Linear Regresison\n",
      "\n",
      "This example uses linear regression with batch gradient descent to estimate house prices, based on a small training set.   \n",
      "\n",
      "In general our goal with linear regression is to fit a linear function to our features so that we can learn some function $f(x)$ that can predict a dependent variable based on a set of independent variables, by learning 'weights' .  The general form of the function we're trying to fit is:\n",
      "\n",
      "$$f(x) = \\theta_{0} + \\theta_{1}*X_{1} + \\theta_{2}*X_{2} + \u2026 + \\theta_{n}*X_{n}$$\n",
      "\n",
      "As a concrete example, this demonstration will attempt to predict the dependent variable 'house price' based on the independent variables '# of bedrooms' and 'square feet' by finding some values for $\\theta_{0},\\theta_{1},$ and $\\theta_{2}$ that make the function $f(x) = \\theta_{0}+\\theta_{1} * 'bedrooms' + \\theta_{2} * 'squareFeet'$ as accurate as possible based on some training examples.\n",
      "\n",
      "\n"
     ]
    },
    {
     "cell_type": "markdown",
     "metadata": {},
     "source": [
      "## Scaling Data\n",
      "\n",
      "\n",
      "\n",
      "When solving multivariate linear regression with an iterative method the training data should be scaled (aka normalized, aka standardized) so that all the features are on a similar scale.  Said simply, it helps to have the values of each feature be close in size.   This scaling step is not typically done when solving linear regression directly or with [MLE](http://en.wikipedia.org/wiki/Maximum_likelihood).\n",
      "\n",
      "In order to scale our data, we'll subtract the feature mean from each value and divide by the feature standard deviation.  This will give our data a mean of 0 and a standard deviation of 1.  The scaleData function below implements this procedure, known as [z-score or standardized score in statistics](http://en.wikipedia.org/wiki/Standard_score).  \n",
      "\n",
      "$$z = \\frac{X - \\mu}{\\sigma}$$"
     ]
    },
    {
     "cell_type": "code",
     "collapsed": false,
     "input": [
      "#z-scores some array\n",
      "def scaleData(z):\n",
      "   mu = z.mean(axis=0)\n",
      "   sigma = z.std(axis=0)\n",
      "   z = (z - mu)/sigma \n",
      "   return z, mu, sigma\n"
     ],
     "language": "python",
     "metadata": {},
     "outputs": [],
     "prompt_number": 56
    },
    {
     "cell_type": "code",
     "collapsed": false,
     "input": [
      "import numpy as np\n",
      "\n",
      "#My sample data set to train our regression with.   \n",
      "#This is an array with features price, bedrooms, and square footage\n",
      "#For example a 100,000 dollar house has 2 bedrooms and 1600 square feet.\n",
      "\n",
      "trainData = np.array([[100000,2,1600],\n",
      "                     [200000,4,2500],\n",
      "                     [250000,4,3000],\n",
      "                     [150000,3,2000]])\n",
      "#We'll scale the data as noted above.\n",
      "trainData, mu, sigma = scaleData(trainData)\n"
     ],
     "language": "python",
     "metadata": {},
     "outputs": [],
     "prompt_number": 57
    },
    {
     "cell_type": "markdown",
     "metadata": {},
     "source": [
      "First we're going to split our array into y, the variable we want to predict (house price)\n",
      "and X, the array of independent variables we're going to train on.\n",
      "\n",
      "If you recall from above, our linear equation included a contant $\\theta_{0}$ that isn't present in our training data X, so we'll need to add it.   By convention we set $\\theta_{0}$ to 1.\n",
      "\n"
     ]
    },
    {
     "cell_type": "code",
     "collapsed": false,
     "input": [
      "y = np.matrix(trainData[:,0]) #slice the first column, house price\n",
      "y = y.T #we just prefer y to be a column vector instead of a row vector.\n",
      "X = np.matrix(trainData[:,1:]) #slice the rest of the column into matrix X\n",
      "\n",
      "#get the number of training samples in X\n",
      "m = y.size\n",
      "#Add a column of ones, size m, to X (interception data)\n",
      "it = np.ones(shape=(m, 1))\n",
      "X = np.append(it,X,1)\n"
     ],
     "language": "python",
     "metadata": {},
     "outputs": [],
     "prompt_number": 58
    },
    {
     "cell_type": "markdown",
     "metadata": {},
     "source": [
      "#Cost Function\n",
      "\n",
      "The purpose of this function is to show us how accurate our $\\theta$s are.  Our goal is to minimze this fucntion.  When our model is very accurate (the predicted value is very close to the actual value), J will become very small.   \n",
      "\n",
      "In a machine learning linear regression model, the cost is typically defined as:\n",
      "$$J = \\frac{1}{2m} \\sum_{i=1}^{m}( \\hat{y} - y)^2 $$   This is a slightly modified sum of squared error function, where we're scaling the value based on the number of features.   Note that y is the actual value in our training data and $\\hat{y}$ is the predicted value of y, based on the current $\\theta$s.\n"
     ]
    },
    {
     "cell_type": "code",
     "collapsed": false,
     "input": [
      "#Evaluate the linear regression\n",
      "def compute_cost(X, y, theta):\n",
      "    m = y.size\n",
      "    y_hat = X.dot(theta)\n",
      "    J = (1.0/2*m)* (y_hat - y).T.dot((y_hat - y))  \n",
      "    return J"
     ],
     "language": "python",
     "metadata": {},
     "outputs": [],
     "prompt_number": 59
    },
    {
     "cell_type": "markdown",
     "metadata": {},
     "source": [
      "###Note: Math Tricks\n",
      "\n",
      "Note that while I could have used loops to handle the summation of each row in the training set (i.e. for each row in X, compute the error and add that together), I'm instead using matrix multiplication, to handle the calculation all at once.   This is an important optimization, and one that is used often in ML.  Never loop when you can use linear algebra to vectorize your operations.\n",
      "\n",
      "For example, if I want to predict the values of X based on my current thetas as above, I can multiple my training data set X, a 4x3 matrix with  $\\theta$, a 3x1 vector to result in a 4x1 vector of predicted values.\n",
      "\n",
      "\n",
      "\n"
     ]
    },
    {
     "cell_type": "markdown",
     "metadata": {},
     "source": [
      "# Gradient Descent\n",
      "\n",
      "Now that we have a cost function that can estimate the correctness of our current values of $\\theta$, all we have to do is minimize that error rate J by picking the best possible values of $\\theta$ we can based on our training data.\n",
      "\n",
      "To do that, we'll use an optimization algorithm known as 'batch gradient descent.'\n",
      "\n",
      "On the surface, batch gradient descent is pretty easy:\n",
      "\n",
      "Repeat Until Converged: {\n",
      "$$\\theta:=\\theta-\\alpha\\frac{\\partial}{\\partial\\theta}J(\\theta)$$\n",
      "}\n",
      "\n",
      "So, every time we update theta, we will set theta equal to the previous value minus $\\alpha$ (a learning rate) multiplied by the partial derivative of the cost function J, with respect to $\\theta$\n",
      "\n",
      "By doing the caluclus, we can get to\n",
      "$$\\frac{\\partial}{\\partial\\theta}J(\\theta) = \\frac{1}{2m} \\sum_{i=1}^{m}( \\hat{y} - y)^2 $$\n",
      "\n",
      "So then:\n",
      "\n",
      "$$\\theta:=\\theta-\\alpha\\frac{\\partial}{\\partial\\theta}J(\\theta)$$\n",
      "Can be expanded to become:\n",
      "$$\\theta := \\theta + \\alpha \\frac{1}{2m} \\sum_{i=1}^{m}( y^{i} - \\hat{y}^{i} )^2 x^{i}$$\n",
      "Which is what we've implemented below.   \n",
      "\n"
     ]
    },
    {
     "cell_type": "code",
     "collapsed": false,
     "input": [
      "\n",
      "def gradient_descent(X, y, theta, alpha, num_iters):\n",
      "   \n",
      "    m = y.size\n",
      "    J_history = np.zeros(shape=(num_iters, 1)) # a column vec to hold our previous Js\n",
      " \n",
      "    for i in range(num_iters):\n",
      "        gradient = (1.0/2*m) * (( y - X.dot(theta)).T.dot(X)).T\n",
      "        theta =  theta + (alpha * gradient)\n",
      "        J_history[i, 0] = compute_cost(X, y, theta)\n",
      "    return theta, J_history"
     ],
     "language": "python",
     "metadata": {},
     "outputs": [],
     "prompt_number": 60
    },
    {
     "cell_type": "markdown",
     "metadata": {},
     "source": [
      "## Finding our $\\theta$s\n",
      "\n",
      "Now that we've implemented these functions, we can pass X (our training data), y (our dependat variable, house price), alpha, and iterations to the gradient_descent function to learn values for $\\theta$\n",
      "\n",
      "We've set $\\alpha$ to .01, which is a commonly used good start.  We've set iterations to 1000, which should be more than enough in this case.  A more sophisticated approach would be to repeat until J stops changing significantly (i.e. converges)."
     ]
    },
    {
     "cell_type": "code",
     "collapsed": false,
     "input": [
      "alpha = .01\n",
      "iterations = 1000\n",
      "#np.shape[1] is the number of features, so we need an equal # of thetas\n",
      "theta = np.zeros((X.shape[1],1))\n",
      "\n",
      "theta, J_history = gradient_descent(X,y,theta,alpha, iterations)\n",
      "print theta\n"
     ],
     "language": "python",
     "metadata": {},
     "outputs": [
      {
       "output_type": "stream",
       "stream": "stdout",
       "text": [
        "[[ -2.99760217e-17]\n",
        " [  1.06878296e-01]\n",
        " [  8.99016733e-01]]\n"
       ]
      }
     ],
     "prompt_number": 61
    },
    {
     "cell_type": "markdown",
     "metadata": {},
     "source": [
      "##Tuning Gradient Descent\n",
      "\n",
      "We can adjust $\\alpha$, the learning rate, and iterations, the number of times gradient descent loops to make gradient descent run better.   Let's try some different values."
     ]
    },
    {
     "cell_type": "code",
     "collapsed": false,
     "input": [
      "from pylab import *\n",
      "def plot_grad_descent(alpha, iterNum):\n",
      "    theta = np.zeros((X.shape[1],1))#reinitialize theta\n",
      "    theta, J_history = gradient_descent(X, y,theta, alpha, iterNum)\n",
      "    plot(J_history)\n",
      "    title(\"alpha = \" +str(alpha)+ \"; iterations = \" +str(iterNum))\n",
      "    show()\n"
     ],
     "language": "python",
     "metadata": {},
     "outputs": [],
     "prompt_number": 62
    },
    {
     "cell_type": "code",
     "collapsed": false,
     "input": [
      "plot_grad_descent(.01,10)"
     ],
     "language": "python",
     "metadata": {},
     "outputs": [
      {
       "metadata": {},
       "output_type": "display_data",
       "png": "[encoded data removed]",
       "text": [
        "<matplotlib.figure.Figure at 0x470e850>"
       ]
      }
     ],
     "prompt_number": 63
    },
    {
     "cell_type": "markdown",
     "metadata": {},
     "source": [
      "In this graph we can see that $J(\\theta)$ is decreasing as iterations increases, which is expected.   While $J(\\theta)$ is beginning to stablize, we probably need more iterations before it becomes stable.   Lets try 100."
     ]
    },
    {
     "cell_type": "code",
     "collapsed": false,
     "input": [
      "plot_grad_descent(.01,100)"
     ],
     "language": "python",
     "metadata": {},
     "outputs": [
      {
       "metadata": {},
       "output_type": "display_data",
       "png": "[encoded data removed]",
       "text": [
        "<matplotlib.figure.Figure at 0x43aedf0>"
       ]
      }
     ],
     "prompt_number": 64
    },
    {
     "cell_type": "markdown",
     "metadata": {},
     "source": [
      "In this graph we can see $J(\\theta)$ has become very small and begins to approach 0 asymptotically as $J(\\theta)$ approaches infinity.  Lets further prove that point."
     ]
    },
    {
     "cell_type": "code",
     "collapsed": false,
     "input": [
      "plot_grad_descent(.01,1000)"
     ],
     "language": "python",
     "metadata": {},
     "outputs": [
      {
       "metadata": {},
       "output_type": "display_data",
       "png": "[encoded data removed]",
       "text": [
        "<matplotlib.figure.Figure at 0x4738470>"
       ]
      }
     ],
     "prompt_number": 65
    },
    {
     "cell_type": "markdown",
     "metadata": {},
     "source": [
      "Here we can see $J(\\theta)$ over 1000 iterations.  "
     ]
    },
    {
     "cell_type": "code",
     "collapsed": false,
     "input": [
      "plot_grad_descent(.1295,13)"
     ],
     "language": "python",
     "metadata": {},
     "outputs": [
      {
       "metadata": {},
       "output_type": "display_data",
       "png": "[encoded data removed]",
       "text": [
        "<matplotlib.figure.Figure at 0x473eab0>"
       ]
      }
     ],
     "prompt_number": 66
    },
    {
     "cell_type": "markdown",
     "metadata": {},
     "source": [
      "This last graph is an example of what would happen if we set alpha too large.   In this case gradient descent it taking steps that are too large.   When that happens, $J(\\theta)$ will 'miss' the minimum and will begin increasing as iterations increase."
     ]
    },
    {
     "cell_type": "markdown",
     "metadata": {},
     "source": [
      "# Making a Prediction\n",
      "\n",
      "Now that we have some learned weights for our function, we can use them to make a prediction.  In testData we've created three hypothetical houses.  The first house has 2 bedrooms and 2000 square feet.   The second has 3 and 2200, and the last has 5 bedrooms and 4000 square feet.   \n",
      "\n",
      "We'll need to scale this data and an intercept term, as before in training.   "
     ]
    },
    {
     "cell_type": "code",
     "collapsed": false,
     "input": [
      "alpha = .01\n",
      "iterations = 100\n",
      "#np.shape[1] is the number of features, so we need an equal # of thetas\n",
      "theta = np.zeros((X.shape[1],1))\n",
      "theta, J_history = gradient_descent(X,y,theta,alpha, iterations)\n",
      "\n",
      "testData = np.array([[2,2000],\n",
      "                     [3,2200],\n",
      "                     [5,4000]])\n",
      "\n",
      "\n",
      "\n",
      "testData, muTest, sigmaTest = scaleData(testData)\n",
      "\n",
      "\n",
      "#Add a column of ones to X (intercept term)\n",
      "m = testData.shape[0]\n",
      "it = np.ones(shape=(m, 1))\n",
      "testData = np.append(it,testData,1)\n",
      "                     "
     ],
     "language": "python",
     "metadata": {},
     "outputs": [],
     "prompt_number": 67
    },
    {
     "cell_type": "markdown",
     "metadata": {},
     "source": [
      "Once we've done that we have testData, a 3x3 matrix,  and $\\theta$, a 3x1 column vector.   "
     ]
    },
    {
     "cell_type": "code",
     "collapsed": false,
     "input": [
      "print testData\n",
      "print theta"
     ],
     "language": "python",
     "metadata": {},
     "outputs": [
      {
       "output_type": "stream",
       "stream": "stdout",
       "text": [
        "[[ 1.         -1.06904497 -0.81537425]\n",
        " [ 1.         -0.26726124 -0.59299945]\n",
        " [ 1.          1.33630621  1.4083737 ]]\n",
        "[[ -2.88657986e-17]\n",
        " [  3.34169146e-01]\n",
        " [  6.71725831e-01]]\n"
       ]
      }
     ],
     "prompt_number": 68
    },
    {
     "cell_type": "markdown",
     "metadata": {},
     "source": [
      "If we multiply, we're left with a 3x1 column vector of predicteded house prices.  Lastly, we have to multiple the answer by the standard deviation of house price and add back the mean, to 'unscale' the result.   "
     ]
    },
    {
     "cell_type": "code",
     "collapsed": false,
     "input": [
      "#predicted house prices, unscaled.\n",
      "print (testData.dot(theta)*sigma[0]+mu[0])\n"
     ],
     "language": "python",
     "metadata": {},
     "outputs": [
      {
       "output_type": "stream",
       "stream": "stdout",
       "text": [
        "[[ 124411.76891421]\n",
        " [ 147739.89898822]\n",
        " [ 252848.33209757]]\n"
       ]
      }
     ],
     "prompt_number": 69
    },
    {
     "cell_type": "markdown",
     "metadata": {},
     "source": [
      "#What's Next?\n",
      "-Logistic Regression\n",
      "\n",
      "-L1 / L2 Regularization\n",
      "\n",
      "-Minibatch and online algorithms"
     ]
    }
   ],
   "metadata": {}
  }
 ]
}