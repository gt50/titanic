{
 "metadata": {
  "name": "",
  "signature": "sha256:6fe1cca99d845fba6c5372e3d5f415f9d8e6e6804bdc853b009a7971e7e3a69f"
 },
 "nbformat": 3,
 "nbformat_minor": 0,
 "worksheets": [
  {
   "cells": [
    {
     "cell_type": "code",
     "collapsed": false,
     "input": [
      "import networkx as nx\n",
      "%matplotlib inline"
     ],
     "language": "python",
     "metadata": {},
     "outputs": [],
     "prompt_number": 20
    },
    {
     "cell_type": "code",
     "collapsed": false,
     "input": [
      "M=nx.read_gml(\"polblogs.gml\", relabel=True)"
     ],
     "language": "python",
     "metadata": {},
     "outputs": [],
     "prompt_number": 13
    },
    {
     "cell_type": "code",
     "collapsed": false,
     "input": [
      "# create weighted graph from M\n",
      "G = nx.Graph()\n",
      "for u,v,data in M.edges_iter(data=True):\n",
      "    if G.has_edge(u,v):\n",
      "        G[u][v]['weight'] += 1\n",
      "    else:\n",
      "        G.add_edge(u, v, weight=1)\n",
      "\n"
     ],
     "language": "python",
     "metadata": {},
     "outputs": [],
     "prompt_number": 14
    },
    {
     "cell_type": "markdown",
     "metadata": {},
     "source": [
      "### 1.  Create a nice looking graph of the political blog network"
     ]
    },
    {
     "cell_type": "markdown",
     "metadata": {},
     "source": [
      "### 2.  What are the 10 most influential blogs?"
     ]
    },
    {
     "cell_type": "markdown",
     "metadata": {},
     "source": [
      "### 3.  What are the 10 least influential blogs?\n",
      "\n"
     ]
    },
    {
     "cell_type": "markdown",
     "metadata": {},
     "source": [
      "###4.  Answer this question for both left wing and right wing blogs seperately.  (Optional 10 Extra Credit Points)"
     ]
    },
    {
     "cell_type": "code",
     "collapsed": false,
     "input": [],
     "language": "python",
     "metadata": {},
     "outputs": []
    }
   ],
   "metadata": {}
  }
 ]
}